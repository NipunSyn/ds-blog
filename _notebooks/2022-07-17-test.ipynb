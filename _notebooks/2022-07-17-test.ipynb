{
 "cells": [
  {
   "cell_type": "code",
   "execution_count": null,
   "metadata": {},
   "outputs": [],
   "source": [
    "# Creating a Conda Virtual Environment \n",
    "> In this post we will see how to setup a virtual environment for any ML project you want to work on. This is the blueprint that you will need to follow and after going through this you will realise how easy it really is to get going xD\n",
    "- categories: [virtual environment, git, conda]\n",
    "- badges: true\n",
    "- comments: true\n",
    "- search_exclude: false\n",
    "- image: images/b1_create-venv/post.jpeg"
   ]
  }
 ],
 "metadata": {
  "kernelspec": {
   "display_name": "Python 3.9.6 64-bit",
   "language": "python",
   "name": "python3"
  },
  "language_info": {
   "name": "python",
   "version": "3.9.6"
  },
  "orig_nbformat": 4,
  "vscode": {
   "interpreter": {
    "hash": "aee8b7b246df8f9039afb4144a1f6fd8d2ca17a180786b69acc140d282b71a49"
   }
  }
 },
 "nbformat": 4,
 "nbformat_minor": 2
}
